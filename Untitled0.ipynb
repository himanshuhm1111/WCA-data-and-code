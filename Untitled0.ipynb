{
  "nbformat": 4,
  "nbformat_minor": 0,
  "metadata": {
    "colab": {
      "provenance": []
    },
    "kernelspec": {
      "name": "python3",
      "display_name": "Python 3"
    },
    "language_info": {
      "name": "python"
    }
  },
  "cells": [
    {
      "cell_type": "code",
      "execution_count": null,
      "metadata": {
        "id": "wdU4Cr5-S_kj"
      },
      "outputs": [],
      "source": [
        "from graphviz import Digraph\n",
        "\n",
        "def create_flowchart():\n",
        "    # Initialize the directed graph\n",
        "    flowchart = Digraph(format='png', comment='Methodology Flowchart')\n",
        "\n",
        "    # Set global graph attributes\n",
        "    flowchart.attr(rankdir='LR', size='8,5')\n",
        "\n",
        "    # Add nodes\n",
        "    flowchart.node('A', 'Deposition Techniques\\n(RF/DC Sputtering and Electrodeposition)', shape='box')\n",
        "    flowchart.node('B', 'Optimization\\n(Temperature, Voltage, Power, Time)', shape='box')\n",
        "    flowchart.node('C', 'Surface Modification\\n(Low-Energy Modifiers\\nPolypropylene, MA, SA)', shape='box')\n",
        "    flowchart.node('D', 'Characterization\\n(CAG, SEM, AFM, GI-XRD, FTIR)', shape='box')\n",
        "    flowchart.node('E', 'Corrosion Resistance\\n(EIS, OCP in NaCl, Acidic, Alkaline Media)', shape='box')\n",
        "    flowchart.node('F', 'Stability Studies\\n(Mechanical, Thermal, Chemical\\nMachine Learning Predictions)', shape='box')\n",
        "    flowchart.node('G', 'Comparative Analysis\\n(Electrodeposition vs Sputtering)', shape='box')\n",
        "\n",
        "    # Add edges\n",
        "    flowchart.edges([('A', 'B'), ('B', 'C'), ('C', 'D'), ('D', 'E'), ('E', 'F'), ('F', 'G')])\n",
        "\n",
        "    # Render the flowchart\n",
        "    flowchart.render('methodology_flowchart', view=True)\n",
        "\n",
        "# Generate the flowchart\n",
        "create_flowchart()\n"
      ]
    }
  ]
}